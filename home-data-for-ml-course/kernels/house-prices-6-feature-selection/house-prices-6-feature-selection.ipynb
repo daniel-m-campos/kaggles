{
 "cells": [
  {
   "cell_type": "markdown",
   "metadata": {},
   "source": [
    "# House Prices 6: Feature Selection\n",
    "This notebook is heavily inspired by [Feature Engineering and Selection: A Practical Approach for Predictive Models](http://www.feat.engineering/). \n",
    "\n",
    "In [house-prices-5-interactions](https://www.kaggle.com/code/danielmcampos/house-prices-5-interactions), brute force interaction with ElasticNet was used to implicitly select features. This notebook will investigate explicit methods of feature engineering:\n",
    "1. Transformations.\n",
    "2. Interactions.\n",
    "\n",
    "And feature selection:\n",
    "1. Filter methods.\n",
    "2. Wrapper methods.\n"
   ]
  },
  {
   "cell_type": "code",
   "execution_count": null,
   "metadata": {},
   "outputs": [],
   "source": [
    "from house_price_utils import *\n",
    "\n",
    "setup_notebook()"
   ]
  },
  {
   "cell_type": "markdown",
   "metadata": {},
   "source": [
    "# Data"
   ]
  },
  {
   "cell_type": "code",
   "execution_count": null,
   "metadata": {},
   "outputs": [],
   "source": [
    "data, data_test = load_data()\n",
    "data = data[sorted(data)]\n",
    "X_raw = data.drop(columns=[\"SalePrice\"])\n",
    "y = data.SalePrice"
   ]
  },
  {
   "cell_type": "code",
   "execution_count": null,
   "metadata": {},
   "outputs": [],
   "source": [
    "from scipy import stats\n",
    "from sklearn.compose import TransformedTargetRegressor, make_column_transformer\n",
    "from sklearn import linear_model\n",
    "from sklearn.impute import SimpleImputer\n",
    "from sklearn.model_selection import train_test_split, cross_val_score\n",
    "from sklearn.pipeline import make_pipeline\n",
    "from sklearn.feature_selection import (\n",
    "    SelectKBest,\n",
    "    r_regression,\n",
    "    f_regression,\n",
    "    chi2,\n",
    "    VarianceThreshold,\n",
    ")\n",
    "from sklearn.preprocessing import (\n",
    "    StandardScaler,\n",
    "    OneHotEncoder,\n",
    "    OrdinalEncoder,\n",
    "    PolynomialFeatures,\n",
    ")"
   ]
  },
  {
   "cell_type": "markdown",
   "metadata": {},
   "source": [
    "# Feature Grouping"
   ]
  },
  {
   "cell_type": "code",
   "execution_count": null,
   "metadata": {},
   "outputs": [],
   "source": [
    "features = group_features(X_raw)"
   ]
  },
  {
   "cell_type": "code",
   "execution_count": null,
   "metadata": {},
   "outputs": [],
   "source": [
    "feature_counts = {k: len(v) for k, v in features.items()}\n",
    "feature_counts"
   ]
  },
  {
   "cell_type": "markdown",
   "metadata": {},
   "source": [
    "# CV Split"
   ]
  },
  {
   "cell_type": "code",
   "execution_count": null,
   "metadata": {},
   "outputs": [],
   "source": [
    "X_train, X_val, y_train, y_val = train_test_split(\n",
    "    X_raw,\n",
    "    y,\n",
    "    test_size=0.2,\n",
    "    random_state=42,\n",
    "    shuffle=True,\n",
    ")"
   ]
  },
  {
   "cell_type": "markdown",
   "metadata": {},
   "source": [
    "# Preprocessor"
   ]
  },
  {
   "cell_type": "code",
   "execution_count": null,
   "metadata": {},
   "outputs": [],
   "source": [
    "continuous_transformer = make_pipeline(SimpleImputer(strategy=\"mean\"), StandardScaler())\n",
    "nominal_transformer = make_pipeline(\n",
    "    SimpleImputer(strategy=\"most_frequent\"),\n",
    "    OneHotEncoder(handle_unknown=\"ignore\"),\n",
    ")\n",
    "ordinal_transformer = make_pipeline(\n",
    "    SimpleImputer(strategy=\"most_frequent\"),\n",
    "    OrdinalEncoder(handle_unknown=\"use_encoded_value\", unknown_value=-1),\n",
    ")\n",
    "preprocessor = make_column_transformer(\n",
    "    (continuous_transformer, features[\"continuous\"]),\n",
    "    (nominal_transformer, features[\"nominal\"]),\n",
    "    (ordinal_transformer, features[\"ordinal\"]),\n",
    ")"
   ]
  },
  {
   "cell_type": "code",
   "execution_count": null,
   "metadata": {},
   "outputs": [],
   "source": [
    "scores = {}"
   ]
  },
  {
   "cell_type": "markdown",
   "metadata": {},
   "source": [
    "# Base Model\n",
    "Will use Linear Regression as the base model since it is more sensitive to over-fitting irrelevant features."
   ]
  },
  {
   "cell_type": "code",
   "execution_count": null,
   "metadata": {},
   "outputs": [],
   "source": [
    "base_model = make_pipeline(preprocessor, linear_model.LinearRegression())"
   ]
  },
  {
   "cell_type": "code",
   "execution_count": null,
   "metadata": {},
   "outputs": [],
   "source": [
    "scores[\"base_model\"] = -cross_val_score(\n",
    "    base_model, X_train, y_train, cv=5, scoring=\"neg_mean_absolute_error\"\n",
    ")"
   ]
  },
  {
   "cell_type": "code",
   "execution_count": null,
   "metadata": {},
   "outputs": [],
   "source": [
    "summary(scores)"
   ]
  },
  {
   "cell_type": "markdown",
   "metadata": {},
   "source": [
    "# Add Square Root Transforms and Select Constrained Features"
   ]
  },
  {
   "cell_type": "code",
   "execution_count": null,
   "metadata": {},
   "outputs": [],
   "source": [
    "from sklearn.base import BaseEstimator, TransformerMixin\n",
    "\n",
    "\n",
    "class SqrtFeatureExpander(BaseEstimator, TransformerMixin):\n",
    "    def __init__(self):\n",
    "        pass\n",
    "\n",
    "    def fit(self, X, y=None):\n",
    "        return self\n",
    "\n",
    "    def transform(self, X, y=None):\n",
    "        features = []\n",
    "        for x in X.T:\n",
    "            features.append(x)\n",
    "            features.append(np.sign(x) * np.sqrt(abs(x)))\n",
    "        return np.column_stack(features)"
   ]
  },
  {
   "cell_type": "code",
   "execution_count": null,
   "metadata": {},
   "outputs": [],
   "source": [
    "# Test the power transformer\n",
    "sqrt_expander = make_column_transformer(\n",
    "    (\n",
    "        make_pipeline(\n",
    "            SimpleImputer(strategy=\"mean\"), StandardScaler(), SqrtFeatureExpander()\n",
    "        ),\n",
    "        features[\"continuous\"],\n",
    "    )\n",
    ")\n",
    "\n",
    "X_power = sqrt_expander.fit_transform(X_train)\n",
    "\n",
    "shapes = X_power.shape, X_train[features[\"continuous\"]].shape\n",
    "print(*shapes)\n",
    "assert shapes[0][0] == shapes[1][0]\n",
    "assert shapes[0][1] > shapes[1][1]"
   ]
  },
  {
   "cell_type": "code",
   "execution_count": null,
   "metadata": {},
   "outputs": [],
   "source": [
    "continuous_transformer_2 = make_pipeline(\n",
    "    SimpleImputer(strategy=\"mean\"),\n",
    "    SqrtFeatureExpander(),\n",
    "    StandardScaler(),\n",
    "    SelectKBest(\n",
    "        r_regression,\n",
    "        k=feature_counts[\"continuous\"],\n",
    "    ),\n",
    ")\n",
    "preprocessor_2 = make_column_transformer(\n",
    "    (continuous_transformer_2, features[\"continuous\"]),\n",
    "    (nominal_transformer, features[\"nominal\"]),\n",
    "    (ordinal_transformer, features[\"ordinal\"]),\n",
    ")\n",
    "model_2 = make_pipeline(preprocessor_2, linear_model.LinearRegression())"
   ]
  },
  {
   "cell_type": "code",
   "execution_count": null,
   "metadata": {},
   "outputs": [],
   "source": [
    "scores[\"model_2\"] = -cross_val_score(\n",
    "    model_2, X_train, y_train, cv=5, scoring=\"neg_mean_absolute_error\"\n",
    ")\n",
    "summary(scores)"
   ]
  },
  {
   "cell_type": "markdown",
   "metadata": {},
   "source": [
    "# Filter & Select Nominal Features"
   ]
  },
  {
   "cell_type": "code",
   "execution_count": null,
   "metadata": {},
   "outputs": [],
   "source": [
    "nominal_transformer_2 = make_pipeline(\n",
    "    SimpleImputer(strategy=\"most_frequent\"),\n",
    "    OneHotEncoder(handle_unknown=\"ignore\"),\n",
    "    SelectKBest(score_func=chi2, k=int(0.5 * feature_counts[\"nominal\"])),\n",
    ")\n",
    "preprocessor_3 = make_column_transformer(\n",
    "    (continuous_transformer_2, features[\"continuous\"]),\n",
    "    (nominal_transformer_2, features[\"nominal\"]),\n",
    "    (ordinal_transformer, features[\"ordinal\"]),\n",
    ")\n",
    "model_3 = make_pipeline(preprocessor_3, linear_model.LinearRegression())"
   ]
  },
  {
   "cell_type": "code",
   "execution_count": null,
   "metadata": {},
   "outputs": [],
   "source": [
    "scores[\"model_3\"] = -cross_val_score(\n",
    "    model_3, X_train, y_train, cv=5, scoring=\"neg_mean_absolute_error\"\n",
    ")\n",
    "summary(scores)"
   ]
  },
  {
   "cell_type": "markdown",
   "metadata": {},
   "source": [
    "# Interaction Search"
   ]
  },
  {
   "cell_type": "code",
   "execution_count": null,
   "metadata": {},
   "outputs": [],
   "source": [
    "continuous_transformer_3 = make_pipeline(\n",
    "    SimpleImputer(strategy=\"mean\"),\n",
    "    SqrtFeatureExpander(),\n",
    "    SelectKBest(\n",
    "        r_regression,\n",
    "        k=feature_counts[\"continuous\"],\n",
    "    ),\n",
    ")\n",
    "preprocessor_4 = make_column_transformer(\n",
    "    (continuous_transformer_3, features[\"continuous\"]),\n",
    "    (nominal_transformer_2, features[\"nominal\"]),\n",
    "    (ordinal_transformer, features[\"ordinal\"]),\n",
    ")\n",
    "model_4 = make_pipeline(\n",
    "    preprocessor_4,\n",
    "    PolynomialFeatures(2, include_bias=False, interaction_only=True),\n",
    "    StandardScaler(),\n",
    "    SelectKBest(r_regression, k=int(sum(feature_counts.values()))),\n",
    "    linear_model.LinearRegression(),\n",
    ")"
   ]
  },
  {
   "cell_type": "code",
   "execution_count": null,
   "metadata": {},
   "outputs": [],
   "source": [
    "scores[\"model_4\"] = -cross_val_score(\n",
    "    model_4, X_train, y_train, cv=5, scoring=\"neg_mean_absolute_error\"\n",
    ")\n",
    "summary(scores)"
   ]
  },
  {
   "cell_type": "markdown",
   "metadata": {},
   "source": [
    "# Intrinsic Search with ElasticNet"
   ]
  },
  {
   "cell_type": "code",
   "execution_count": null,
   "metadata": {},
   "outputs": [],
   "source": [
    "model_5 = make_pipeline(\n",
    "    preprocessor_4,\n",
    "    PolynomialFeatures(2, include_bias=False, interaction_only=True),\n",
    "    StandardScaler(),\n",
    "    linear_model.ElasticNetCV(n_jobs=4, cv=5),\n",
    ")"
   ]
  },
  {
   "cell_type": "code",
   "execution_count": null,
   "metadata": {},
   "outputs": [],
   "source": [
    "scores[\"model_5\"] = -cross_val_score(\n",
    "    model_5,\n",
    "    X_train,\n",
    "    y_train,\n",
    "    cv=5,\n",
    "    scoring=\"neg_mean_absolute_error\",\n",
    ")\n",
    "summary(scores)"
   ]
  },
  {
   "cell_type": "markdown",
   "metadata": {},
   "source": [
    "# Recursive Feature Elimination"
   ]
  },
  {
   "cell_type": "code",
   "execution_count": null,
   "metadata": {},
   "outputs": [],
   "source": [
    "from sklearn.feature_selection import RFE\n",
    "\n",
    "\n",
    "model_6 = make_pipeline(\n",
    "    preprocessor_4,\n",
    "    PolynomialFeatures(2, include_bias=False, interaction_only=True),\n",
    "    StandardScaler(),\n",
    "    RFE(\n",
    "        estimator=linear_model.LinearRegression(),\n",
    "        n_features_to_select=int(sum(feature_counts.values())),\n",
    "    ),\n",
    ")"
   ]
  },
  {
   "cell_type": "code",
   "execution_count": null,
   "metadata": {},
   "outputs": [],
   "source": [
    "# model_6.fit(X_train, y_train)\n",
    "# report(model_6, X_train, y_train, X_val, y_val)"
   ]
  },
  {
   "cell_type": "markdown",
   "metadata": {},
   "source": [
    "## Observations\n",
    "* Super slow. Took ~30 minutes to run.\n",
    "* Train MAE = 14322.15, Test MAE = 21565.44"
   ]
  },
  {
   "cell_type": "markdown",
   "metadata": {},
   "source": [
    "# Stepwise Selection"
   ]
  },
  {
   "cell_type": "markdown",
   "metadata": {},
   "source": [
    "## Forward Selection"
   ]
  },
  {
   "cell_type": "code",
   "execution_count": null,
   "metadata": {},
   "outputs": [],
   "source": [
    "from sklearn.feature_selection import SequentialFeatureSelector"
   ]
  },
  {
   "cell_type": "code",
   "execution_count": null,
   "metadata": {},
   "outputs": [],
   "source": [
    "fwd_selector = SequentialFeatureSelector(\n",
    "    linear_model.LinearRegression(),\n",
    "    direction=\"forward\",\n",
    "    tol=50,\n",
    "    scoring=\"neg_mean_absolute_error\",\n",
    "    cv=2,\n",
    "    n_jobs=3,\n",
    ")"
   ]
  },
  {
   "cell_type": "markdown",
   "metadata": {},
   "source": [
    "### Using Base Model Features"
   ]
  },
  {
   "cell_type": "code",
   "execution_count": null,
   "metadata": {},
   "outputs": [],
   "source": [
    "model_7 = make_pipeline(\n",
    "    preprocessor,\n",
    "    fwd_selector,\n",
    "    linear_model.LinearRegression(),\n",
    ")"
   ]
  },
  {
   "cell_type": "code",
   "execution_count": null,
   "metadata": {},
   "outputs": [],
   "source": [
    "scores[\"model_7\"] = -cross_val_score(\n",
    "    model_7,\n",
    "    X_train,\n",
    "    y_train,\n",
    "    cv=5,\n",
    "    scoring=\"neg_mean_absolute_error\",\n",
    ")\n",
    "summary(scores)"
   ]
  },
  {
   "cell_type": "code",
   "execution_count": null,
   "metadata": {},
   "outputs": [],
   "source": [
    "model_7.fit(X_train, y_train)\n",
    "report(model_7, X_train, y_train, X_val, y_val)"
   ]
  },
  {
   "cell_type": "code",
   "execution_count": null,
   "metadata": {},
   "outputs": [],
   "source": [
    "fwd_selector.get_feature_names_out(preprocessor.get_feature_names_out())"
   ]
  },
  {
   "cell_type": "code",
   "execution_count": null,
   "metadata": {},
   "outputs": [],
   "source": [
    "m = model_7[1]\n",
    "m.n_features_in_, m.n_features_to_select_"
   ]
  },
  {
   "cell_type": "markdown",
   "metadata": {},
   "source": [
    "### Using Interaction Features"
   ]
  },
  {
   "cell_type": "code",
   "execution_count": null,
   "metadata": {},
   "outputs": [],
   "source": [
    "model_7i = make_pipeline(\n",
    "    preprocessor_4,\n",
    "    PolynomialFeatures(2, include_bias=False, interaction_only=True),\n",
    "    StandardScaler(),\n",
    "    fwd_selector,\n",
    "    linear_model.LinearRegression(),\n",
    ")"
   ]
  },
  {
   "cell_type": "code",
   "execution_count": null,
   "metadata": {},
   "outputs": [],
   "source": [
    "scores[\"model_7i\"] = -cross_val_score(\n",
    "    model_7i,\n",
    "    X_train,\n",
    "    y_train,\n",
    "    cv=5,\n",
    "    scoring=\"neg_mean_absolute_error\",\n",
    ")\n",
    "summary(scores)"
   ]
  },
  {
   "cell_type": "markdown",
   "metadata": {},
   "source": [
    "## Backward Selection"
   ]
  },
  {
   "cell_type": "code",
   "execution_count": null,
   "metadata": {},
   "outputs": [],
   "source": [
    "bwd_selector = SequentialFeatureSelector(\n",
    "    linear_model.LinearRegression(),\n",
    "    direction=\"backward\",\n",
    "    tol=-50,\n",
    "    scoring=\"neg_mean_absolute_error\",\n",
    "    cv=2,\n",
    "    n_jobs=3,\n",
    ")"
   ]
  },
  {
   "cell_type": "markdown",
   "metadata": {},
   "source": [
    "### Using Base Model Features"
   ]
  },
  {
   "cell_type": "code",
   "execution_count": null,
   "metadata": {},
   "outputs": [],
   "source": [
    "model_8 = make_pipeline(\n",
    "    preprocessor,\n",
    "    bwd_selector,\n",
    "    linear_model.LinearRegression(),\n",
    ")"
   ]
  },
  {
   "cell_type": "code",
   "execution_count": null,
   "metadata": {},
   "outputs": [],
   "source": [
    "scores[\"model_8\"] = -cross_val_score(\n",
    "    model_8,\n",
    "    X_train,\n",
    "    y_train,\n",
    "    cv=5,\n",
    "    scoring=\"neg_mean_absolute_error\",\n",
    ")\n",
    "summary(scores)"
   ]
  },
  {
   "cell_type": "markdown",
   "metadata": {},
   "source": [
    "### Using Interaction Features"
   ]
  },
  {
   "cell_type": "code",
   "execution_count": null,
   "metadata": {},
   "outputs": [],
   "source": [
    "model_8i = make_pipeline(\n",
    "    preprocessor_4,\n",
    "    PolynomialFeatures(2, include_bias=False, interaction_only=True),\n",
    "    StandardScaler(),\n",
    "    bwd_selector,\n",
    "    linear_model.LinearRegression(),\n",
    ")"
   ]
  },
  {
   "cell_type": "code",
   "execution_count": null,
   "metadata": {},
   "outputs": [],
   "source": [
    "scores[\"model_8i\"] = -cross_val_score(\n",
    "    model_8i,\n",
    "    X_train,\n",
    "    y_train,\n",
    "    cv=5,\n",
    "    scoring=\"neg_mean_absolute_error\",\n",
    ")\n",
    "summary(scores)"
   ]
  },
  {
   "cell_type": "markdown",
   "metadata": {},
   "source": [
    "# Evaluation"
   ]
  },
  {
   "cell_type": "code",
   "execution_count": null,
   "metadata": {},
   "outputs": [],
   "source": [
    "# model.fit(X_train, y_train)"
   ]
  },
  {
   "cell_type": "code",
   "execution_count": null,
   "metadata": {},
   "outputs": [],
   "source": [
    "# report(model, X_train, y_train, X_val, y_val)"
   ]
  },
  {
   "cell_type": "markdown",
   "metadata": {},
   "source": [
    "# Observations\n",
    "..."
   ]
  },
  {
   "cell_type": "code",
   "execution_count": null,
   "metadata": {},
   "outputs": [],
   "source": [
    "# fig = residual_plots(y_val, model.predict(X_val))"
   ]
  },
  {
   "cell_type": "markdown",
   "metadata": {},
   "source": [
    "# Summary\n",
    "..."
   ]
  },
  {
   "cell_type": "markdown",
   "metadata": {},
   "source": [
    "# Submit"
   ]
  },
  {
   "cell_type": "code",
   "execution_count": null,
   "metadata": {},
   "outputs": [],
   "source": [
    "# model.fit(X_raw, y)\n",
    "# print(f\"Full data MAE = {evaluate(model, X_raw, y):.2f}\")"
   ]
  },
  {
   "cell_type": "code",
   "execution_count": null,
   "metadata": {},
   "outputs": [],
   "source": [
    "# create_submission(model, data_test)"
   ]
  },
  {
   "cell_type": "code",
   "execution_count": null,
   "metadata": {},
   "outputs": [],
   "source": [
    "if False:\n",
    "    import kaggle\n",
    "\n",
    "    result = kaggle.api.competition_submit(\n",
    "        \"submission.csv\",\n",
    "        f\"{regressor} with log transform of target, all interactions\",\n",
    "        \"home-data-for-ml-course\",\n",
    "    )\n",
    "    print(result)"
   ]
  }
 ],
 "metadata": {
  "kaggle": {
   "accelerator": "none",
   "dataSources": [
    {
     "databundleVersionId": 111096,
     "sourceId": 10211,
     "sourceType": "competition"
    }
   ],
   "isGpuEnabled": false,
   "isInternetEnabled": false,
   "language": "python",
   "sourceType": "notebook"
  },
  "kernelspec": {
   "display_name": "Python 3",
   "language": "python",
   "name": "python3"
  },
  "language_info": {
   "codemirror_mode": {
    "name": "ipython",
    "version": 3
   },
   "file_extension": ".py",
   "mimetype": "text/x-python",
   "name": "python",
   "nbconvert_exporter": "python",
   "pygments_lexer": "ipython3",
   "version": "3.11.7"
  }
 },
 "nbformat": 4,
 "nbformat_minor": 4
}
