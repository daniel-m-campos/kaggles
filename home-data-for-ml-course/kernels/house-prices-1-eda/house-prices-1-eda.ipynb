{
 "cells": [
  {
   "cell_type": "markdown",
   "metadata": {},
   "source": [
    "# House Price EDA"
   ]
  },
  {
   "cell_type": "code",
   "execution_count": null,
   "metadata": {
    "jupyter": {
     "source_hidden": true
    }
   },
   "outputs": [],
   "source": [
    "import pandas as pd\n",
    "import numpy as np\n",
    "import matplotlib.pyplot as plt\n",
    "import seaborn as sns\n",
    "import warnings\n",
    "\n",
    "plt.style.use(\"ggplot\")\n",
    "pd.options.display.max_columns = None\n",
    "pd.options.display.max_rows = 30\n",
    "warnings.filterwarnings(\"ignore\", message=\"use_inf_as_na option is deprecated\")"
   ]
  },
  {
   "cell_type": "code",
   "execution_count": null,
   "metadata": {},
   "outputs": [],
   "source": [
    "data = pd.read_csv(\"../input/train.csv\", index_col=\"Id\")\n",
    "data_test = pd.read_csv(\"../input/test.csv\", index_col=\"Id\")\n",
    "data = data[sorted(data)]\n",
    "X = data.drop(columns=[\"SalePrice\"])\n",
    "target = data.SalePrice"
   ]
  },
  {
   "cell_type": "code",
   "execution_count": null,
   "metadata": {},
   "outputs": [],
   "source": [
    "data.shape"
   ]
  },
  {
   "cell_type": "markdown",
   "metadata": {},
   "source": [
    "# Feature Data Analysis"
   ]
  },
  {
   "cell_type": "code",
   "execution_count": null,
   "metadata": {},
   "outputs": [],
   "source": [
    "X"
   ]
  },
  {
   "cell_type": "code",
   "execution_count": null,
   "metadata": {},
   "outputs": [],
   "source": [
    "X.describe()"
   ]
  },
  {
   "cell_type": "code",
   "execution_count": null,
   "metadata": {},
   "outputs": [],
   "source": [
    "data_test.describe()"
   ]
  },
  {
   "cell_type": "code",
   "execution_count": null,
   "metadata": {},
   "outputs": [],
   "source": [
    "num_features = X.select_dtypes(include=[np.number]).columns.tolist()\n",
    "cat_features = X.select_dtypes(include=[object]).columns.tolist()\n",
    "\n",
    "assert len(X.columns) == len(num_features) + len(cat_features)\n",
    "\n",
    "print(f\"{len(num_features)=}, {len(cat_features)=}\")"
   ]
  },
  {
   "cell_type": "code",
   "execution_count": null,
   "metadata": {},
   "outputs": [],
   "source": [
    "data[num_features].select_dtypes(include=[np.float64]).nunique().sort_values(\n",
    "    ascending=False\n",
    ")"
   ]
  },
  {
   "cell_type": "code",
   "execution_count": null,
   "metadata": {},
   "outputs": [],
   "source": [
    "data[num_features].select_dtypes(include=[np.int64]).nunique().sort_values(\n",
    "    ascending=False\n",
    ")[:10]"
   ]
  },
  {
   "cell_type": "code",
   "execution_count": null,
   "metadata": {},
   "outputs": [],
   "source": [
    "data[cat_features].nunique().sort_values(ascending=False)[:10]"
   ]
  },
  {
   "cell_type": "code",
   "execution_count": null,
   "metadata": {},
   "outputs": [],
   "source": [
    "data.groupby(\"Neighborhood\").agg({\"SalePrice\": [\"mean\", \"std\"]}).sort_values(\n",
    "    (\"SalePrice\", \"mean\")\n",
    ")"
   ]
  },
  {
   "cell_type": "markdown",
   "metadata": {},
   "source": [
    "## Observations\n",
    "* `Qual` features are ordinal\n",
    "* `Cond` features are ordinal\n",
    "* More categorical than numerical features.\n",
    "* Quite a few cat features with cardinality greater than 5. Neighborbood especially big one. May need to to target encoding."
   ]
  },
  {
   "cell_type": "markdown",
   "metadata": {},
   "source": [
    "# Check Train/Test Imbalances"
   ]
  },
  {
   "cell_type": "markdown",
   "metadata": {},
   "source": [
    "## Numerical Features"
   ]
  },
  {
   "cell_type": "code",
   "execution_count": null,
   "metadata": {},
   "outputs": [],
   "source": [
    "(data[num_features].mean() - data_test[num_features].mean()).div(\n",
    "    data[num_features].std()\n",
    ").abs().sort_values(ascending=False)"
   ]
  },
  {
   "cell_type": "markdown",
   "metadata": {},
   "source": [
    "## Categorical Features"
   ]
  },
  {
   "cell_type": "code",
   "execution_count": null,
   "metadata": {
    "jupyter": {
     "source_hidden": true
    }
   },
   "outputs": [],
   "source": [
    "from scipy.stats import chi2_contingency"
   ]
  },
  {
   "cell_type": "code",
   "execution_count": null,
   "metadata": {},
   "outputs": [],
   "source": [
    "def chi_square_test(train_data, valid_data, cat_features):\n",
    "    chi_results = []\n",
    "    for c in cat_features:\n",
    "        contingency_table = pd.DataFrame(\n",
    "            {\n",
    "                \"train\": train_data[c].value_counts(),\n",
    "                \"valid\": valid_data[c].value_counts(),\n",
    "            }\n",
    "        ).fillna(0)\n",
    "        chi2, p, dof, expected = chi2_contingency(contingency_table)\n",
    "        chi_results.append((c, chi2, p))\n",
    "    return pd.DataFrame(\n",
    "        chi_results, columns=[\"category\", \"chi_squared\", \"p_value\"]\n",
    "    ).sort_values(\"p_value\")"
   ]
  },
  {
   "cell_type": "code",
   "execution_count": null,
   "metadata": {},
   "outputs": [],
   "source": [
    "chi_results = chi_square_test(data, data_test, cat_features)"
   ]
  },
  {
   "cell_type": "code",
   "execution_count": null,
   "metadata": {},
   "outputs": [],
   "source": [
    "chi_results.sort_values(\"p_value\")[:10]"
   ]
  },
  {
   "cell_type": "markdown",
   "metadata": {},
   "source": [
    "## Observations\n",
    "* No big t-value differences in train/test numeric data.\n",
    "* No cat features seem to have significantly different proportions at 1% level.\n",
    "* Seems like train and validation data sets are balanced across numerical and categorical features.\n",
    "* May want to stratify across `Neighborhood`."
   ]
  },
  {
   "cell_type": "markdown",
   "metadata": {},
   "source": [
    "# Target Analysis"
   ]
  },
  {
   "cell_type": "code",
   "execution_count": null,
   "metadata": {},
   "outputs": [],
   "source": [
    "target.describe()"
   ]
  },
  {
   "cell_type": "code",
   "execution_count": null,
   "metadata": {},
   "outputs": [],
   "source": [
    "g = sns.displot(target, kind=\"kde\")"
   ]
  },
  {
   "cell_type": "code",
   "execution_count": null,
   "metadata": {},
   "outputs": [],
   "source": [
    "sns.displot(np.log(target), kind=\"kde\")\n",
    "_ = g.ax.set(xlabel=\"Log SalePrice\")"
   ]
  },
  {
   "cell_type": "markdown",
   "metadata": {},
   "source": [
    "## Observations\n",
    "SalePrice is right skewed, may benefit from Log or Box-Cox transforming."
   ]
  },
  {
   "cell_type": "markdown",
   "metadata": {},
   "source": [
    "# Missing values"
   ]
  },
  {
   "cell_type": "code",
   "execution_count": null,
   "metadata": {},
   "outputs": [],
   "source": [
    "missing_percent = (\n",
    "    data.isna().sum()[lambda x: x > 0].sort_values(ascending=False).div(len(data))\n",
    ")\n",
    "missing_percent"
   ]
  },
  {
   "cell_type": "code",
   "execution_count": null,
   "metadata": {},
   "outputs": [],
   "source": [
    "mostly_missing = missing_percent[lambda x: x.gt(0.5)]\n",
    "mostly_missing"
   ]
  },
  {
   "cell_type": "code",
   "execution_count": null,
   "metadata": {},
   "outputs": [],
   "source": [
    "for c in mostly_missing.index:\n",
    "    sns.catplot(data.fillna(\"N/A\"), x=c, y=\"SalePrice\", kind=\"box\")"
   ]
  },
  {
   "cell_type": "code",
   "execution_count": null,
   "metadata": {},
   "outputs": [],
   "source": [
    "ax = data.plot.scatter(\"LotFrontage\", \"SalePrice\")"
   ]
  },
  {
   "cell_type": "code",
   "execution_count": null,
   "metadata": {},
   "outputs": [],
   "source": [
    " data[['LotFrontage', 'SalePrice']].corr()"
   ]
  },
  {
   "cell_type": "markdown",
   "metadata": {},
   "source": [
    "## Observations\n",
    "* `Qual` features are ordinal\n",
    "* `Cond` features are ordinal\n",
    "* `PoolQC`, `MiscFeature`, `Alley`, `Fence`, `MasVnrType` mostly missing and don't seem to really separate the SalePrice so can drop.\n",
    "* `LotFrontage` has large missing values but seems reasonable correlated with target so will impute missing values for it.\n",
    "* `FireplaceQu` has large missing values which seems to be from missing `NA`. This can be filled in."
   ]
  },
  {
   "cell_type": "code",
   "execution_count": null,
   "metadata": {},
   "outputs": [],
   "source": [
    "cat_features = [c for c in cat_features if c not in mostly_missing]\n",
    "len(cat_features)"
   ]
  },
  {
   "cell_type": "markdown",
   "metadata": {},
   "source": [
    "# Duplicates"
   ]
  },
  {
   "cell_type": "code",
   "execution_count": null,
   "metadata": {},
   "outputs": [],
   "source": [
    "data.loc[data.duplicated()].empty"
   ]
  },
  {
   "cell_type": "code",
   "execution_count": null,
   "metadata": {},
   "outputs": [],
   "source": [
    "data[cat_features].duplicated().sum()"
   ]
  },
  {
   "cell_type": "code",
   "execution_count": null,
   "metadata": {},
   "outputs": [],
   "source": [
    "data[[\"SalePrice\"] + cat_features].loc[\n",
    "    data.duplicated(subset=cat_features, keep=False)\n",
    "].sort_values(cat_features)"
   ]
  },
  {
   "cell_type": "code",
   "execution_count": null,
   "metadata": {},
   "outputs": [],
   "source": [
    "data.groupby(cat_features).count().sort_values(\"YearBuilt\", ascending=False)"
   ]
  },
  {
   "cell_type": "code",
   "execution_count": null,
   "metadata": {},
   "outputs": [],
   "source": [
    "data[data[num_features].duplicated(keep=False)]"
   ]
  },
  {
   "cell_type": "markdown",
   "metadata": {},
   "source": [
    "## Observations\n",
    "* There are a few cat feature duplicates but they differ on the num features and targets so they look like genuine samples. \n",
    "* One num feature duplicate entry looks like `BsmtExposure` changed. Just a single value so probably not a big deal.\n"
   ]
  },
  {
   "cell_type": "markdown",
   "metadata": {},
   "source": [
    "# Ordinal vs Nominal"
   ]
  },
  {
   "cell_type": "code",
   "execution_count": null,
   "metadata": {},
   "outputs": [],
   "source": [
    "data[num_features].nunique().sort_values(ascending=False)[lambda x: x <= 30]"
   ]
  },
  {
   "cell_type": "code",
   "execution_count": null,
   "metadata": {
    "jupyter": {
     "source_hidden": true
    }
   },
   "outputs": [],
   "source": [
    "nom_features = [\n",
    "    \"MSSubClass\",\n",
    "]\n",
    "ord_features = [\n",
    "    \"OverallQual\",\n",
    "    \"OverallCond\",\n",
    "    \"YrSold\",\n",
    "    \"MoSold\",\n",
    "]\n",
    "\n",
    "for c in nom_features + ord_features:\n",
    "    if c in num_features:\n",
    "        num_features.remove(c)"
   ]
  },
  {
   "cell_type": "markdown",
   "metadata": {},
   "source": [
    "## Observations\n",
    "* `BedroomAbvGr` not documented.\n",
    "* `MSSubClass` is nominal feature.\n",
    "* `OverallQual`, `OverallCond`, `YrSold`, `MoSold` are ordinal."
   ]
  },
  {
   "cell_type": "markdown",
   "metadata": {},
   "source": [
    "# Feature Relationships"
   ]
  },
  {
   "cell_type": "code",
   "execution_count": null,
   "metadata": {
    "jupyter": {
     "source_hidden": true
    }
   },
   "outputs": [],
   "source": [
    "data[[\"SalePrice\"] + num_features + ord_features].corr().style.background_gradient(\n",
    "    cmap=\"coolwarm\"\n",
    ")"
   ]
  },
  {
   "cell_type": "markdown",
   "metadata": {},
   "source": [
    "## Observations\n",
    "* Some high correlations between garage features and years things were built.\n",
    "* Nothing looks too high to be of concern at this point."
   ]
  },
  {
   "cell_type": "code",
   "execution_count": null,
   "metadata": {
    "jupyter": {
     "source_hidden": true
    }
   },
   "outputs": [],
   "source": [
    "from sklearn.feature_selection import mutual_info_regression\n",
    "\n",
    "\n",
    "def make_mi_scores(X, y, discrete_features):\n",
    "    mi_scores = mutual_info_regression(X, y, discrete_features=discrete_features)\n",
    "    mi_scores = pd.Series(mi_scores, name=\"MI Scores\", index=X.columns)\n",
    "    mi_scores = mi_scores.sort_values()\n",
    "    return mi_scores"
   ]
  },
  {
   "cell_type": "code",
   "execution_count": null,
   "metadata": {},
   "outputs": [],
   "source": [
    "discrete_features = nom_features + ord_features + cat_features"
   ]
  },
  {
   "cell_type": "code",
   "execution_count": null,
   "metadata": {},
   "outputs": [],
   "source": [
    "def preprocess(data, num_feaures, discrete_features):\n",
    "    X = data[num_features + discrete_features].astype({f: float for f in num_features})\n",
    "    for c in num_features:\n",
    "        X.loc[X[c].isna(), c] = X[c].mean()\n",
    "    for c in discrete_features:\n",
    "        X.loc[:, c], _ = X[c].factorize(use_na_sentinel=False)\n",
    "    X = X.astype({f: int for f in discrete_features})\n",
    "    return X.dropna()"
   ]
  },
  {
   "cell_type": "code",
   "execution_count": null,
   "metadata": {},
   "outputs": [],
   "source": [
    "X = preprocess(data, num_features, discrete_features)"
   ]
  },
  {
   "cell_type": "code",
   "execution_count": null,
   "metadata": {
    "jupyter": {
     "source_hidden": true
    }
   },
   "outputs": [],
   "source": [
    "X"
   ]
  },
  {
   "cell_type": "code",
   "execution_count": null,
   "metadata": {},
   "outputs": [],
   "source": [
    "X.shape"
   ]
  },
  {
   "cell_type": "code",
   "execution_count": null,
   "metadata": {},
   "outputs": [],
   "source": [
    "mi_scores = make_mi_scores(X, target[X.index], \"auto\")"
   ]
  },
  {
   "cell_type": "code",
   "execution_count": null,
   "metadata": {},
   "outputs": [],
   "source": [
    "ax = mi_scores.plot(kind=\"barh\", figsize=(10, 10))\n",
    "ax.tick_params(axis=\"y\", labelsize=7)\n",
    "_ = ax.set_title(\"Mutual Information\")"
   ]
  },
  {
   "cell_type": "code",
   "execution_count": null,
   "metadata": {},
   "outputs": [],
   "source": [
    "g = sns.pairplot(X[mi_scores[-10:].index].join(target[X.index]))"
   ]
  },
  {
   "cell_type": "markdown",
   "metadata": {},
   "source": [
    "## Observations\n",
    "* Some heteroskedascity in in target vs num feature scatter plots."
   ]
  },
  {
   "cell_type": "markdown",
   "metadata": {},
   "source": [
    "# Conclusion\n",
    "1. Drop columns `PoolQC, MiscFeature, Alley, Fence, MasVnrType`.\n",
    "2. Impute `LotFrontage` at a minimum.\n",
    "3. `OverallQual` is both the most correlated and highest MI feature. It looks somewhat bifurcated against SalePrice which might be from and interaction.\n",
    "4. Might be worth log transform target and positive numerical features.\n",
    "5. Training and validation data sets don't seem to have any imbalances.\n",
    "6. Probably should to stratify validation on `Neighborhood`"
   ]
  }
 ],
 "metadata": {
  "kaggle": {
   "accelerator": "none",
   "dataSources": [
    {
     "databundleVersionId": 111096,
     "sourceId": 10211,
     "sourceType": "competition"
    }
   ],
   "isGpuEnabled": false,
   "isInternetEnabled": false,
   "language": "python",
   "sourceType": "notebook"
  },
  "kernelspec": {
   "display_name": "Python 3",
   "language": "python",
   "name": "python3"
  },
  "language_info": {
   "codemirror_mode": {
    "name": "ipython",
    "version": 3
   },
   "file_extension": ".py",
   "mimetype": "text/x-python",
   "name": "python",
   "nbconvert_exporter": "python",
   "pygments_lexer": "ipython3",
   "version": "3.10.13"
  }
 },
 "nbformat": 4,
 "nbformat_minor": 4
}
