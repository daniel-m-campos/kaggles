{
 "cells": [
  {
   "cell_type": "markdown",
   "metadata": {},
   "source": [
    "# House Price CV & Baseline Model"
   ]
  },
  {
   "cell_type": "code",
   "execution_count": null,
   "metadata": {},
   "outputs": [],
   "source": [
    "from typing import Dict, Set\n",
    "import pandas as pd\n",
    "import numpy as np\n",
    "import matplotlib.pyplot as plt\n",
    "from sklearn.preprocessing import OrdinalEncoder, OneHotEncoder\n",
    "from sklearn.feature_selection import mutual_info_regression\n",
    "import seaborn as sns\n",
    "import warnings\n",
    "plt.style.use('ggplot')\n",
    "pd.options.display.max_columns = None\n",
    "pd.options.display.max_rows = 30\n",
    "warnings.filterwarnings('ignore', message='use_inf_as_na option is deprecated')"
   ]
  },
  {
   "cell_type": "code",
   "execution_count": null,
   "metadata": {},
   "outputs": [],
   "source": [
    "data = pd.read_csv('../input/train.csv', index_col='Id') \n",
    "data_test = pd.read_csv('../input/test.csv', index_col='Id')\n",
    "data = data[sorted(data)]\n",
    "X_raw = data.drop(columns=['SalePrice'])\n",
    "y = data.SalePrice"
   ]
  },
  {
   "cell_type": "code",
   "execution_count": null,
   "metadata": {},
   "outputs": [],
   "source": [
    "def make_mi_scores(X, y, discrete_features):\n",
    "    mi_scores = mutual_info_regression(X, y, discrete_features=discrete_features)\n",
    "    mi_scores = pd.Series(mi_scores, name=\"MI Scores\", index=X.columns)\n",
    "    mi_scores = mi_scores.sort_values()\n",
    "    return mi_scores\n",
    "\n",
    "\n",
    "def group_features(df: pd.DataFrame, ordinal_cutoff: int=10) -> Dict[str, Set]:\n",
    "    columns = set(df)\n",
    "    cat_columns = set(df.select_dtypes(include=object))\n",
    "    ordinal_cols = []\n",
    "    cont_cols = []\n",
    "    for column in columns - cat_columns:\n",
    "        if df[column].nunique() < ordinal_cutoff:\n",
    "            ordinal_cols.append(column)\n",
    "        else:\n",
    "            cont_cols.append(column)\n",
    "    return {\n",
    "        \"nominal\": cat_columns, \n",
    "        \"ordinal\": set(ordinal_cols), \n",
    "        \"continuous\": set(cont_cols)\n",
    "    }\n",
    "\n",
    "\n",
    "def clean(df: pd.DataFrame, features: Dict[str, Set]) -> pd.DataFrame:\n",
    "    num_columns = features['continuous']\n",
    "    df_cont = df[list(num_columns)].copy()\n",
    "    df_cont = df_cont.fillna(df_cont.mean())\n",
    "    assert all(df_cont.isnull().sum() == 0)\n",
    "    \n",
    "    # TODO: make this configurable since ordinal encdoing doesn't work well with linear models\n",
    "    encoder = OrdinalEncoder().set_output(transform=\"pandas\")\n",
    "    df_ord = encoder.fit_transform(df[list(features['ordinal'])])\n",
    "    \n",
    "    encoder = OneHotEncoder(sparse_output=False).set_output(transform=\"pandas\")\n",
    "    df_cat = encoder.fit_transform(df[list(features['nominal'])])\n",
    "    \n",
    "    df_clean = pd.concat([df_cont, df_ord, df_cat], axis=1)\n",
    "    has_nans = [c for c in df_clean if df_clean[c].isnull().any()]\n",
    "    return df_clean.drop(columns=has_nans)"
   ]
  },
  {
   "cell_type": "code",
   "execution_count": null,
   "metadata": {
    "jupyter": {
     "source_hidden": true
    }
   },
   "outputs": [],
   "source": [
    "# feature_groups = dict(\n",
    "#     continuous=[\n",
    "#         '1stFlrSF',\n",
    "#          '2ndFlrSF',\n",
    "#          '3SsnPorch',\n",
    "#          'BedroomAbvGr',\n",
    "#          'BsmtFinSF1',\n",
    "#          'BsmtFinSF2',\n",
    "#          'BsmtFullBath',\n",
    "#          'BsmtHalfBath',\n",
    "#          'BsmtUnfSF',\n",
    "#          'EnclosedPorch',\n",
    "#          'Fireplaces',\n",
    "#          'FullBath',\n",
    "#          'GarageArea',\n",
    "#          'GarageCars',\n",
    "#          'GarageYrBlt',\n",
    "#          'GrLivArea',\n",
    "#          'HalfBath',\n",
    "#          'KitchenAbvGr',\n",
    "#          'LotArea',\n",
    "#          'LotFrontage',\n",
    "#          'LowQualFinSF',\n",
    "#          'MasVnrArea',\n",
    "#          'MiscVal',\n",
    "#          'OpenPorchSF',\n",
    "#          'PoolArea',\n",
    "#          'ScreenPorch',\n",
    "#          'TotRmsAbvGrd',\n",
    "#          'TotalBsmtSF',\n",
    "#          'WoodDeckSF',\n",
    "#          'YearBuilt',\n",
    "#          'YearRemodAdd'\n",
    "#     ],\n",
    "#     nominal = [\n",
    "#         'BldgType',\n",
    "#         'BsmtCond',\n",
    "#         'BsmtExposure',\n",
    "#         'BsmtFinType1',\n",
    "#         'BsmtFinType2',\n",
    "#         'BsmtQual',\n",
    "#         'CentralAir',\n",
    "#         'Condition1',\n",
    "#         'Condition2',\n",
    "#         'Electrical',\n",
    "#         'ExterCond',\n",
    "#         'ExterQual',\n",
    "#         'Exterior1st',\n",
    "#         'Exterior2nd',\n",
    "#         'FireplaceQu',\n",
    "#         'Foundation',\n",
    "#         'Functional',\n",
    "#         'GarageCond',\n",
    "#         'GarageFinish',\n",
    "#         'GarageQual',\n",
    "#         'GarageType',\n",
    "#         'Heating',\n",
    "#         'HeatingQC',\n",
    "#         'HouseStyle',\n",
    "#         'KitchenQual',\n",
    "#         'LandContour',\n",
    "#         'LandSlope',\n",
    "#         'LotConfig',\n",
    "#         'LotShape',\n",
    "#         'MSZoning',\n",
    "#         'Neighborhood',\n",
    "#         'PavedDrive',\n",
    "#         'RoofMatl',\n",
    "#         'RoofStyle',\n",
    "#         'SaleCondition',\n",
    "#         'SaleType',\n",
    "#         'Street',\n",
    "#         'Utilities',\n",
    "#         'MSSubClass'\n",
    "#     ],\n",
    "#     ordinal=['OverallQual', 'OverallCond', 'YrSold', 'MoSold']\n",
    "# )\n",
    "# feature_groups['discrete'] = feature_groups['nominal'] + feature_groups['ordinal']"
   ]
  },
  {
   "cell_type": "code",
   "execution_count": null,
   "metadata": {},
   "outputs": [],
   "source": [
    "full_data = pd.concat([X_raw, data_test]) \n",
    "features = group_features(full_data)\n",
    "full_clean_data = clean(full_data, features)\n",
    "X = full_clean_data[lambda x: x.index.isin(X_raw.index)]\n",
    "X_test = full_clean_data[lambda x: x.index.isin(data_test.index)]"
   ]
  },
  {
   "cell_type": "code",
   "execution_count": null,
   "metadata": {},
   "outputs": [],
   "source": [
    "X.shape, X_test.shape"
   ]
  },
  {
   "cell_type": "code",
   "execution_count": null,
   "metadata": {},
   "outputs": [],
   "source": [
    "selected_features = make_mi_scores(X, y, 'auto').index[-10:].tolist()\n",
    "selected_features"
   ]
  },
  {
   "cell_type": "markdown",
   "metadata": {},
   "source": [
    "# Baseline Model\n",
    " Given the large number of categorical variables, let's start with random forest so we don't have to do any further encoding."
   ]
  },
  {
   "cell_type": "code",
   "execution_count": null,
   "metadata": {},
   "outputs": [],
   "source": [
    "from sklearn.ensemble import RandomForestRegressor\n",
    "from sklearn.metrics import make_scorer, mean_absolute_error\n",
    "from sklearn.model_selection import train_test_split, cross_validate, GroupKFold"
   ]
  },
  {
   "cell_type": "code",
   "execution_count": null,
   "metadata": {},
   "outputs": [],
   "source": [
    "model = RandomForestRegressor(random_state=0)"
   ]
  },
  {
   "cell_type": "code",
   "execution_count": null,
   "metadata": {},
   "outputs": [],
   "source": [
    "scores = cross_validate(\n",
    "    model, \n",
    "    X, \n",
    "    y, \n",
    "    cv=10, \n",
    "    scoring='neg_mean_absolute_error',\n",
    "    return_train_score=True,\n",
    "\n",
    ")"
   ]
  },
  {
   "cell_type": "code",
   "execution_count": null,
   "metadata": {},
   "outputs": [],
   "source": [
    "-scores['train_score'].mean(), scores['train_score'].std()"
   ]
  },
  {
   "cell_type": "code",
   "execution_count": null,
   "metadata": {},
   "outputs": [],
   "source": [
    "-scores['test_score'].mean(), scores['test_score'].std()"
   ]
  },
  {
   "cell_type": "markdown",
   "metadata": {},
   "source": [
    "# Submit"
   ]
  },
  {
   "cell_type": "code",
   "execution_count": null,
   "metadata": {},
   "outputs": [],
   "source": [
    "model.fit(X, y)"
   ]
  },
  {
   "cell_type": "code",
   "execution_count": null,
   "metadata": {},
   "outputs": [],
   "source": [
    "output = pd.DataFrame({'Id': X_test.index,\n",
    "                       'SalePrice': model.predict(X_test)})\n",
    "output.to_csv('submission.csv', index=False)"
   ]
  },
  {
   "cell_type": "code",
   "execution_count": null,
   "metadata": {},
   "outputs": [],
   "source": []
  },
  {
   "cell_type": "code",
   "execution_count": null,
   "metadata": {},
   "outputs": [],
   "source": []
  }
 ],
 "metadata": {
  "kaggle": {
   "accelerator": "none",
   "dataSources": [
    {
     "databundleVersionId": 111096,
     "sourceId": 10211,
     "sourceType": "competition"
    }
   ],
   "isGpuEnabled": false,
   "isInternetEnabled": false,
   "language": "python",
   "sourceType": "notebook"
  },
  "kernelspec": {
   "display_name": "Python 3",
   "language": "python",
   "name": "python3"
  },
  "language_info": {
   "codemirror_mode": {
    "name": "ipython",
    "version": 3
   },
   "file_extension": ".py",
   "mimetype": "text/x-python",
   "name": "python",
   "nbconvert_exporter": "python",
   "pygments_lexer": "ipython3",
   "version": "3.10.13"
  }
 },
 "nbformat": 4,
 "nbformat_minor": 4
}
