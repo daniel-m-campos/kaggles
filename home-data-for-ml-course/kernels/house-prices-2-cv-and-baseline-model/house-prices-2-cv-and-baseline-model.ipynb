{
 "cells": [
  {
   "cell_type": "markdown",
   "metadata": {},
   "source": [
    "# House Price CV & Baseline Model"
   ]
  },
  {
   "cell_type": "code",
   "execution_count": null,
   "metadata": {},
   "outputs": [],
   "source": [
    "import seaborn as sns\n",
    "\n",
    "from house_price_utils import *\n",
    "\n",
    "setup_notebook()"
   ]
  },
  {
   "cell_type": "code",
   "execution_count": null,
   "metadata": {},
   "outputs": [],
   "source": [
    "data, data_test = load_data()\n",
    "data = data[sorted(data)]\n",
    "X_raw = data.drop(columns=[\"SalePrice\"])\n",
    "y = data.SalePrice"
   ]
  },
  {
   "cell_type": "code",
   "execution_count": null,
   "metadata": {},
   "outputs": [],
   "source": [
    "def make_mi_scores(X, y, discrete_features):\n",
    "    mi_scores = mutual_info_regression(X, y, discrete_features=discrete_features)\n",
    "    mi_scores = pd.Series(mi_scores, name=\"MI Scores\", index=X.columns)\n",
    "    mi_scores = mi_scores.sort_values()\n",
    "    return mi_scores\n",
    "\n",
    "\n",
    "def group_features(df: pd.DataFrame, ordinal_cutoff: int = 10) -> Dict[str, Set]:\n",
    "    columns = set(df)\n",
    "    cat_columns = set(df.select_dtypes(include=object))\n",
    "    ordinal_cols = []\n",
    "    cont_cols = []\n",
    "    for column in columns - cat_columns:\n",
    "        if df[column].nunique() < ordinal_cutoff:\n",
    "            ordinal_cols.append(column)\n",
    "        else:\n",
    "            cont_cols.append(column)\n",
    "    return {\n",
    "        \"nominal\": cat_columns,\n",
    "        \"ordinal\": set(ordinal_cols),\n",
    "        \"continuous\": set(cont_cols),\n",
    "    }\n",
    "\n",
    "\n",
    "def clean(df: pd.DataFrame, features: Dict[str, Set]) -> pd.DataFrame:\n",
    "    num_columns = features[\"continuous\"]\n",
    "    df_cont = df[list(num_columns)].copy()\n",
    "    df_cont = df_cont.fillna(df_cont.mean())\n",
    "    assert all(df_cont.isnull().sum() == 0)\n",
    "\n",
    "    # TODO: make this configurable since ordinal encdoing doesn't work well with linear models\n",
    "    encoder = OrdinalEncoder().set_output(transform=\"pandas\")\n",
    "    df_ord = encoder.fit_transform(df[list(features[\"ordinal\"])])\n",
    "\n",
    "    encoder = OneHotEncoder(sparse_output=False).set_output(transform=\"pandas\")\n",
    "    df_cat = encoder.fit_transform(df[list(features[\"nominal\"])])\n",
    "\n",
    "    df_clean = pd.concat([df_cont, df_ord, df_cat], axis=1)\n",
    "    has_nans = [c for c in df_clean if df_clean[c].isnull().any()]\n",
    "    return df_clean.drop(columns=has_nans)"
   ]
  },
  {
   "cell_type": "code",
   "execution_count": null,
   "metadata": {},
   "outputs": [],
   "source": [
    "full_data = pd.concat([X_raw, data_test])\n",
    "features = group_features(full_data)\n",
    "full_clean_data = clean(full_data, features)\n",
    "X = full_clean_data[lambda x: x.index.isin(X_raw.index)]\n",
    "X_test = full_clean_data[lambda x: x.index.isin(data_test.index)]"
   ]
  },
  {
   "cell_type": "code",
   "execution_count": null,
   "metadata": {},
   "outputs": [],
   "source": [
    "X.shape, X_test.shape"
   ]
  },
  {
   "cell_type": "code",
   "execution_count": null,
   "metadata": {},
   "outputs": [],
   "source": [
    "selected_features = make_mi_scores(X, y, \"auto\").index[-10:].tolist()\n",
    "selected_features"
   ]
  },
  {
   "cell_type": "markdown",
   "metadata": {},
   "source": [
    "# Baseline Model\n",
    " Given the large number of categorical variables, let's start with random forest so we don't have to do any further encoding."
   ]
  },
  {
   "cell_type": "code",
   "execution_count": null,
   "metadata": {},
   "outputs": [],
   "source": [
    "from sklearn.ensemble import RandomForestRegressor\n",
    "from sklearn.model_selection import cross_validate"
   ]
  },
  {
   "cell_type": "code",
   "execution_count": null,
   "metadata": {},
   "outputs": [],
   "source": [
    "model = RandomForestRegressor(random_state=0)"
   ]
  },
  {
   "cell_type": "code",
   "execution_count": null,
   "metadata": {},
   "outputs": [],
   "source": [
    "scores = cross_validate(\n",
    "    model,\n",
    "    X,\n",
    "    y,\n",
    "    cv=10,\n",
    "    scoring=\"neg_mean_absolute_error\",\n",
    "    return_train_score=True,\n",
    ")"
   ]
  },
  {
   "cell_type": "code",
   "execution_count": null,
   "metadata": {},
   "outputs": [],
   "source": [
    "-scores[\"train_score\"].mean(), scores[\"train_score\"].std()"
   ]
  },
  {
   "cell_type": "code",
   "execution_count": null,
   "metadata": {},
   "outputs": [],
   "source": [
    "-scores[\"test_score\"].mean(), scores[\"test_score\"].std()"
   ]
  },
  {
   "cell_type": "markdown",
   "metadata": {},
   "source": [
    "## Observations\n",
    "* Model is overfitting.\n"
   ]
  },
  {
   "cell_type": "code",
   "execution_count": null,
   "metadata": {},
   "outputs": [],
   "source": [
    "from sklearn.model_selection import ValidationCurveDisplay"
   ]
  },
  {
   "cell_type": "code",
   "execution_count": null,
   "metadata": {},
   "outputs": [],
   "source": [
    "ValidationCurveDisplay.from_estimator(\n",
    "    model,\n",
    "    X,\n",
    "    y,\n",
    "    param_name=\"n_estimators\",\n",
    "    param_range=[50, 100, 200, 400, 800],\n",
    "    scoring=\"neg_mean_absolute_error\",\n",
    ")"
   ]
  },
  {
   "cell_type": "markdown",
   "metadata": {},
   "source": [
    "# Submit"
   ]
  },
  {
   "cell_type": "code",
   "execution_count": null,
   "metadata": {},
   "outputs": [],
   "source": [
    "model.fit(X, y)"
   ]
  },
  {
   "cell_type": "code",
   "execution_count": null,
   "metadata": {},
   "outputs": [],
   "source": [
    "create_submission(model, X_test)"
   ]
  }
 ],
 "metadata": {
  "kaggle": {
   "accelerator": "none",
   "dataSources": [
    {
     "databundleVersionId": 111096,
     "sourceId": 10211,
     "sourceType": "competition"
    }
   ],
   "isGpuEnabled": false,
   "isInternetEnabled": false,
   "language": "python",
   "sourceType": "notebook"
  },
  "kernelspec": {
   "display_name": "Python 3",
   "language": "python",
   "name": "python3"
  },
  "language_info": {
   "codemirror_mode": {
    "name": "ipython",
    "version": 3
   },
   "file_extension": ".py",
   "mimetype": "text/x-python",
   "name": "python",
   "nbconvert_exporter": "python",
   "pygments_lexer": "ipython3",
   "version": "3.11.7"
  }
 },
 "nbformat": 4,
 "nbformat_minor": 4
}
